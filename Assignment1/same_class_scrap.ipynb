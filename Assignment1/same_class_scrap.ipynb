{
 "cells": [
  {
   "cell_type": "code",
   "execution_count": 3,
   "metadata": {},
   "outputs": [],
   "source": [
    "from requests import get\n",
    "url = \"https://www.niche.com/colleges/search/best-student-athletes/\""
   ]
  },
  {
   "cell_type": "code",
   "execution_count": 4,
   "metadata": {},
   "outputs": [
    {
     "data": {
      "text/plain": [
       "<Response [200]>"
      ]
     },
     "execution_count": 4,
     "metadata": {},
     "output_type": "execute_result"
    }
   ],
   "source": [
    "response = get(url)\n",
    "response"
   ]
  },
  {
   "cell_type": "code",
   "execution_count": 5,
   "metadata": {},
   "outputs": [
    {
     "data": {
      "text/plain": [
       "bs4.BeautifulSoup"
      ]
     },
     "execution_count": 5,
     "metadata": {},
     "output_type": "execute_result"
    }
   ],
   "source": [
    "from bs4 import BeautifulSoup as bs ## importing Beautiful Soup\n",
    "html_soup = bs(response.text,'html.parser')## python's in built library HTML parser\n",
    "type(html_soup)"
   ]
  },
  {
   "cell_type": "code",
   "execution_count": 6,
   "metadata": {},
   "outputs": [
    {
     "data": {
      "text/plain": [
       "28"
      ]
     },
     "execution_count": 6,
     "metadata": {},
     "output_type": "execute_result"
    }
   ],
   "source": [
    "class_check = html_soup.find(class_ =\"search-content\")\n",
    "university_container = class_check.find_all(class_ =\"card__inner\")\n",
    "len(university_container)"
   ]
  },
  {
   "cell_type": "code",
   "execution_count": 7,
   "metadata": {},
   "outputs": [
    {
     "data": {
      "text/plain": [
       "['Durham, NC ',\n",
       " 'Stanford, CA ',\n",
       " 'Los Angeles, CA ',\n",
       " 'Worcester, MA ',\n",
       " 'Notre Dame, IN ',\n",
       " 'Chapel Hill, NC ',\n",
       " 'Gainesville, FL ',\n",
       " 'Nashville, TN ',\n",
       " 'Evanston, IL ',\n",
       " 'Ann Arbor, MI ',\n",
       " 'Los Angeles, CA ',\n",
       " 'New Haven, CT ',\n",
       " 'Austin, TX ',\n",
       " 'Charlottesville, VA ',\n",
       " 'Cambridge, MA ',\n",
       " 'Berkeley, CA ',\n",
       " 'Columbus, OH ',\n",
       " 'Coral Gables, FL ',\n",
       " 'Tuscaloosa, AL ',\n",
       " 'Princeton, NJ ',\n",
       " 'Houston, TX ',\n",
       " 'College Park, MD ',\n",
       " 'Amherst, MA ',\n",
       " 'Winston-Salem, NC ',\n",
       " 'Hanover, NH ',\n",
       " 'Storrs, CT ',\n",
       " 'Worcester, MA ',\n",
       " 'Norton, MA ']"
      ]
     },
     "execution_count": 7,
     "metadata": {},
     "output_type": "execute_result"
    }
   ],
   "source": [
    "container = university_container[0]\n",
    "university_location=[]\n",
    "for container in university_container:\n",
    "    temp=container.li.next_sibling.text\n",
    "    university_location.append(temp)\n",
    "university_location"
   ]
  },
  {
   "cell_type": "code",
   "execution_count": null,
   "metadata": {},
   "outputs": [],
   "source": [
    "import pandas as pd\n",
    "loc.df=[]\n"
   ]
  }
 ],
 "metadata": {
  "kernelspec": {
   "display_name": "Python 3",
   "language": "python",
   "name": "python3"
  },
  "language_info": {
   "codemirror_mode": {
    "name": "ipython",
    "version": 3
   },
   "file_extension": ".py",
   "mimetype": "text/x-python",
   "name": "python",
   "nbconvert_exporter": "python",
   "pygments_lexer": "ipython3",
   "version": "3.7.1"
  }
 },
 "nbformat": 4,
 "nbformat_minor": 2
}
