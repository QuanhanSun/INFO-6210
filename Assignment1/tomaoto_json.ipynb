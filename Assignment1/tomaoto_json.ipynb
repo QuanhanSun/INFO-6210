{
 "cells": [
  {
   "cell_type": "code",
   "execution_count": 2,
   "metadata": {},
   "outputs": [],
   "source": [
    "import urllib3\n",
    "import json"
   ]
  },
  {
   "cell_type": "code",
   "execution_count": 3,
   "metadata": {},
   "outputs": [
    {
     "name": "stderr",
     "output_type": "stream",
     "text": [
      "D:\\anaconda3\\lib\\site-packages\\urllib3\\connectionpool.py:847: InsecureRequestWarning: Unverified HTTPS request is being made. Adding certificate verification is strongly advised. See: https://urllib3.readthedocs.io/en/latest/advanced-usage.html#ssl-warnings\n",
      "  InsecureRequestWarning)\n"
     ]
    },
    {
     "data": {
      "text/plain": [
       "200"
      ]
     },
     "execution_count": 3,
     "metadata": {},
     "output_type": "execute_result"
    }
   ],
   "source": [
    "http=urllib3.PoolManager()\n",
    "r=http.request('GET','https://www.rottentomatoes.com/api/private/v2.0/browse?maxTomato=100&maxPopcorn=100&services=amazon%3Bhbo_go%3Bitunes%3Bnetflix_iw%3Bvudu%3Bamazon_prime%3Bfandango_now&certified&sortBy=release&type=dvd-streaming-all')\n",
    "r.status"
   ]
  },
  {
   "cell_type": "code",
   "execution_count": 4,
   "metadata": {},
   "outputs": [
    {
     "data": {
      "text/plain": [
       "b'{\"counts\":{\"count\":32,\"total\":15958},\"results\":[{\"id\":771243817,\"title\":\"Hunter Killer\",\"url\":\"/m/hunter_killer\",\"tomatoIcon\":\"rotten\",\"tomatoScore\":37,\"popcornIcon\":\"upright\",\"popcornScore\":79,\"theaterReleaseDate\":\"Oct 26\",\"dvdReleaseDate\":\"Jan 15\",\"mpaaRating\":\"R\",\"synopsis\":\"Much like the submarine in its story, <em>Hunter Killer</em> cruises the murky action depths, following a perfunctory course into territory that\\'s been charted many times before.\",\"synopsisType\":\"consensus\",\"runtime\":\"2 hr. 0 min.\",\"mainTrailer\":{\"sourceId\":\"http://link.theplatform.com/s/NGweTC/media/uDKserB4JXWq\",\"id\":\"11308927\"},\"posters\":{\"thumborId\":\"v1.bTsxMjg1MDgwODtqOzE3OTY4OzEyMDA7ODAwOzEyMzM\",\"primary\":\"https://resizing.flixster.com/5fb8Eo19Jruo8zEofu3jZmWLlzQ=/130x0/v1.bTsxMjg1MDgwODtqOzE3OTY4OzEyMDA7ODAwOzEyMzM\"},\"actors\":[\"Gerard Butler\",\"Gary Oldman\",\"Common\"]},{\"id\":771425869,\"title\":\"The Sisters Brothers\",\"url\":\"/m/the_sisters_brothers\",\"tomatoIcon\":\"certified_fresh\",\"tomatoScore\":85,\"popcornIcon\":\"upright\",\"popcornScore\":66,\"theaterReleaseDate\":\"Oct 19\",\"dvdReleaseDate\":\"Jan 22\",\"mpaaRating\":\"R\",\"synopsis\":\"<em>The Sisters Brothers</em> rides familiar genre trails in occasionally unexpected ways - a satisfying journey further elevated by its well-matched leading men.\",\"synopsisType\":\"consensus\",\"runtime\":\"2 hr. 1 min.\",\"mainTrailer\":{\"sourceId\":\"http://link.theplatform.com/s/NGweTC/media/w01b4mt1pKmr\",\"id\":\"11309053\"},\"posters\":{\"thumborId\":\"v1.bTsxMjgzNzk2MztqOzE3OTY4OzEyMDA7NDA1MDs2MDAw\",\"primary\":\"https://resizing.flixster.com/bEhd1N66UCgy9Pcy2kmgPsF47ZM=/130x0/v1.bTsxMjgzNzk2MztqOzE3OTY4OzEyMDA7NDA1MDs2MDAw\"},\"actors\":[\"John C. Reilly\",\"Joaquin Phoenix\",\"Jake Gyllenhaal\"]},{\"id\":771456874,\"title\":\"Bohemian Rhapsody\",\"url\":\"/m/bohemian_rhapsody\",\"tomatoIcon\":\"fresh\",\"tomatoScore\":62,\"popcornIcon\":\"upright\",\"popcornScore\":89,\"theaterReleaseDate\":\"Nov 2\",\"dvdReleaseDate\":\"Jan 22\",\"mpaaRating\":\"PG13\",\"synopsis\":\"<em>Bohemian Rhapsody</em> hits a handful of high notes, but as an in-depth look at a beloved band, it offers more of a medley than a true greatest hits collection.\",\"synopsisType\":\"consensus\",\"runtime\":\"2 hr. 14 min.\",\"mainTrailer\":{\"sourceId\":\"http://link.theplatform.com/s/NGweTC/media/7G3ZPZNYg2Gw\",\"id\":\"11309534\"},\"posters\":{\"thumborId\":\"v1.bTsxMjc0MjEwMTtqOzE3OTY3OzEyMDA7ODE5OzEwMjQ\",\"primary\":\"https://resizing.flixster.com/HqE3pHeSkqQxknuP9MAK2gP2Ptw=/130x0/v1.bTsxMjc0MjEwMTtqOzE3OTY3OzEyMDA7ODE5OzEwMjQ\"},\"actors\":[\"Rami Malek\",\"Lucy Boynton\",\"Gwilym Lee\"]},{\"id\":771467435,\"title\":\"Goosebumps 2: Haunted Halloween\",\"url\":\"/m/goosebumps_2_haunted_halloween\",\"tomatoIcon\":\"rotten\",\"tomatoScore\":47,\"popcornIcon\":\"spilled\",\"popcornScore\":43,\"theaterReleaseDate\":\"Oct 12\",\"dvdReleaseDate\":\"Jan 15\",\"mpaaRating\":\"PG\",\"synopsis\":\"<em>Goosebumps 2: Haunted Halloween</em> offers a handful of treats for very young viewers, but compared to the entertaining original, this sequel is a ding dong to ditch.\",\"synopsisType\":\"consensus\",\"runtime\":\"1 hr. 40 min.\",\"mainTrailer\":{\"sourceId\":\"http://link.theplatform.com/s/NGweTC/media/_VMwuKrqZg_H\",\"id\":\"11309054\"},\"posters\":{\"thumborId\":\"v1.bTsxMjc5MTI0MjtqOzE3OTY4OzEyMDA7MTA4MDsxMzUw\",\"primary\":\"https://resizing.flixster.com/vcwI9zEfz-R9AY2xG-vom9-HJxw=/130x0/v1.bTsxMjc5MTI0MjtqOzE3OTY4OzEyMDA7MTA4MDsxMzUw\"},\"actors\":[\"Wendi McLendon-Covey\",\"Madison Iseman\",\"Jeremy Ray Taylor\"]},{\"id\":771469754,\"title\":\"First Man\",\"url\":\"/m/first_man\",\"tomatoIcon\":\"certified_fresh\",\"tomatoScore\":88,\"popcornIcon\":\"upright\",\"popcornScore\":66,\"theaterReleaseDate\":\"Oct 12\",\"dvdReleaseDate\":\"Jan 22\",\"mpaaRating\":\"PG13\",\"synopsis\":\"<em>First Man</em> uses a personal focus to fuel a look back at a pivotal moment in human history - and takes audiences on a soaring dramatic journey along the way.\",\"synopsisType\":\"consensus\",\"runtime\":\"2 hr. 18 min.\",\"mainTrailer\":{\"sourceId\":\"http://link.theplatform.com/s/NGweTC/media/G2KWk7W_U5NL\",\"id\":\"11308982\"},\"posters\":{\"thumborId\":\"v1.bTsxMjgwNTgxMDtqOzE3OTY4OzEyMDA7NzU4OzEyMDA\",\"primary\":\"https://resizing.flixster.com/kqnpejU16KcQSMoTPvIthCm0u_U=/130x0/v1.bTsxMjgwNTgxMDtqOzE3OTY4OzEyMDA7NzU4OzEyMDA\"},\"actors\":[\"Ryan Gosling\",\"Claire Foy\",\"Jason Clarke\"]},{\"id\":771469956,\"title\":\"The Girl in the Spider\\'s Web\",\"url\":\"/m/the_girl_in_the_spiders_web\",\"tomatoIcon\":\"rotten\",\"tomatoScore\":40,\"popcornIcon\":\"spilled\",\"popcornScore\":42,\"theaterReleaseDate\":\"Nov 9\",\"dvdReleaseDate\":\"Jan 22\",\"mpaaRating\":\"R\",\"synopsis\":\"<em>The Girl in the Spider\\'s Web</em> focuses on the action elements of its source material for a less complex -- and only sporadically effective -- franchise reboot.\",\"synopsisType\":\"consensus\",\"mainTrailer\":{\"sourceId\":\"http://link.theplatform.com/s/NGweTC/media/IiNwc9POcw76\",\"id\":\"11308976\"},\"posters\":{\"thumborId\":\"v1.bTsxMjg1MzQ0MjtqOzE3OTY4OzEyMDA7NjMyOzk2MA\",\"primary\":\"https://resizing.flixster.com/e5AVPCpn9U7yN51l42hZb3H7yec=/130x0/v1.bTsxMjg1MzQ0MjtqOzE3OTY4OzEyMDA7NjMyOzk2MA\"},\"actors\":[\"Claire Foy\",\"Sverrir Gudnason\",\"LaKeith Stanfield\"]},{\"id\":771472582,\"title\":\"Widows\",\"url\":\"/m/widows_2018\",\"tomatoIcon\":\"certified_fresh\",\"tomatoScore\":90,\"popcornIcon\":\"upright\",\"popcornScore\":63,\"theaterReleaseDate\":\"Nov 16\",\"dvdReleaseDate\":\"Jan 22\",\"mpaaRating\":\"R\",\"synopsis\":\"<em>Widows</em> rounds up a stellar ensemble for a heist thriller that mixes popcorn entertainment with a message - and marks another artistic leap for director Steve McQueen.\",\"synopsisType\":\"consensus\",\"runtime\":\"2 hr. 8 min.\",\"posters\":{\"thumborId\":\"v1.bTsxMjg0MDk4NDtqOzE3OTY4OzEyMDA7NDgwMDs3NjAw\",\"primary\":\"https://resizing.flixster.com/4r-dy7DMnuPSQ2xgdeFnA5LfaKo=/130x0/v1.bTsxMjg0MDk4NDtqOzE3OTY4OzEyMDA7NDgwMDs3NjAw\"},\"actors\":[\"Viola Davis\",\"Michelle Rodriguez\",\"Elizabeth Debicki\"]},{\"id\":771474052,\"title\":\"Boy Erased\",\"url\":\"/m/boy_erased\",\"tomatoIcon\":\"certified_fresh\",\"tomatoScore\":80,\"popcornIcon\":\"upright\",\"popcornScore\":78,\"theaterReleaseDate\":\"Nov 2\",\"dvdReleaseDate\":\"Jan 15\",\"mpaaRating\":\"R\",\"synopsis\":\"Anchored in empathy by writer-director-star Joel Edgerton, <em>Boy Erased</em> proves the road to complex, powerfully performed drama can also be paved with good intentions.\",\"synopsisType\":\"consensus\",\"runtime\":\"1 hr. 51 min.\",\"mainTrailer\":{\"sourceId\":\"http://link.theplatform.com/s/NGweTC/media/TdflvrYFuNun\",\"id\":\"11309621\"},\"posters\":{\"thumborId\":\"v1.bTsxMjg3Mzk0MTtqOzE3OTY5OzEyMDA7Mjk5OzQ0Mw\",\"primary\":\"https://resizing.flixster.com/VcW28P7qVOmH2ey8oYx-IeLimzQ=/130x0/v1.bTsxMjg3Mzk0MTtqOzE3OTY5OzEyMDA7Mjk5OzQ0Mw\"},\"actors\":[\"Lucas Hedges\",\"Nicole Kidman\",\"Russell Crowe\"]},{\"id\":771484409,\"title\":\"The Hate U Give\",\"url\":\"/m/the_hate_u_give\",\"tomatoIcon\":\"certified_fresh\",\"tomatoScore\":97,\"popcornIcon\":\"upright\",\"popcornScore\":78,\"theaterReleaseDate\":\"Oct 19\",\"dvdReleaseDate\":\"Jan 22\",\"mpaaRating\":\"PG13\",\"synopsis\":\"Led by a breakout turn from Amandla Stenberg, the hard-hitting <em>The Hate U Give</em> emphatically proves the YA genre has room for much more than magic and romance.\",\"synopsisType\":\"consensus\",\"runtime\":\"2 hr. 12 min.\",\"mainTrailer\":{\"sourceId\":\"http://link.theplatform.com/s/NGweTC/media/IaiztzD3ZHVf\",\"id\":\"11307628\"},\"posters\":{\"thumborId\":\"v1.bTsxMjg0NDEzMDtqOzE3OTY4OzEyMDA7MjAyNTszMDAw\",\"primary\":\"https://resizing.flixster.com/0rQ34USe8Vs83WmHVb_lGptlhhk=/130x0/v1.bTsxMjg0NDEzMDtqOzE3OTY4OzEyMDA7MjAyNTszMDAw\"},\"actors\":[\"Amandla Stenberg\",\"Regina Hall\",\"Russell Hornsby\"]},{\"id\":771485415,\"title\":\"The Bookshop\",\"url\":\"/m/the_bookshop\",\"tomatoIcon\":\"rotten\",\"tomatoScore\":54,\"popcornIcon\":\"spilled\",\"popcornScore\":48,\"theaterReleaseDate\":\"Aug 24\",\"dvdReleaseDate\":\"Jan 15\",\"mpaaRating\":\"PG\",\"synopsis\":\"A rare adaptation that sticks too closely to its source material, <em>The Bookshop</em>\\'s meticulously crafted world building gets lost in its meandering pace.\",\"synopsisType\":\"consensus\",\"runtime\":\"1 hr. 53 min.\",\"mainTrailer\":{\"sourceId\":\"http://link.theplatform.com/s/NGweTC/media/gMNZ_BloSrGy\",\"id\":\"11307724\"},\"posters\":{\"thumborId\":\"v1.bTsxMjc5OTYzNDtqOzE3OTY4OzEyMDA7MTA4MDsxNjAw\",\"primary\":\"https://resizing.flixster.com/TRMXEiOxvNiuq-evWXj5lhlGgzw=/130x0/v1.bTsxMjc5OTYzNDtqOzE3OTY4OzEyMDA7MTA4MDsxNjAw\"},\"actors\":[\"Emily Mortimer\",\"Bill Nighy\",\"Honor Kneafsey\"]},{\"id\":771489086,\"title\":\"Madeline\\'s Madeline\",\"url\":\"/m/madelines_madeline\",\"tomatoIcon\":\"certified_fresh\",\"tomatoScore\":86,\"popcornIcon\":\"spilled\",\"popcornScore\":52,\"theaterReleaseDate\":\"Aug 10\",\"dvdReleaseDate\":\"Jan 15\",\"mpaaRating\":\"NR\",\"synopsis\":\"<em>Madeline\\'s Madeline</em> proves experimental cinema is alive and well -- and serves as a powerful calling card for Helena Howard in her big-screen debut.\",\"synopsisType\":\"consensus\",\"runtime\":\"1 hr. 30 min.\",\"mainTrailer\":{\"sourceId\":\"http://link.theplatform.com/s/NGweTC/media/Rcd1Ws_OXx_B\",\"id\":\"11307695\"},\"posters\":{\"thumborId\":\"v1.bTsxMjgwNDQwOTtqOzE3OTY4OzEyMDA7MTY5OTsyNTAw\",\"primary\":\"https://resizing.flixster.com/_LoRmjCkeLxMmFCLk6C06zNqKAE=/130x0/v1.bTsxMjgwNDQwOTtqOzE3OTY4OzEyMDA7MTY5OTsyNTAw\"},\"actors\":[\"Helena Howard\",\"Okwui Okpokwasili\",\"Julee Cerda\"]},{\"id\":771490179,\"title\":\"The Old Man & the Gun\",\"url\":\"/m/the_old_man_and_the_gun\",\"tomatoIcon\":\"certified_fresh\",\"tomatoScore\":92,\"popcornIcon\":\"upright\",\"popcornScore\":64,\"theaterReleaseDate\":\"Oct 19\",\"dvdReleaseDate\":\"Jan 15\",\"mpaaRating\":\"PG13\",\"synopsis\":\"A well-told story brought to life by a beautifully matched cast, <em>The Old Man & the Gun</em> is pure, easygoing entertainment for film fans - and a fitting farewell to a legend.\",\"synopsisType\":\"consensus\",\"runtime\":\"1 hr. 33 min.\",\"mainTrailer\":{\"sourceId\":\"http://link.theplatform.com/s/NGweTC/media/vhHQm675HmyJ\",\"id\":\"11308610\"},\"posters\":{\"thumborId\":\"v1.bTsxMjc2MDUxMztwOzE3OTY3OzEyMDA7MTA4MDsxMzUw\",\"primary\":\"https://resizing.flixster.com/KR7zvjQUtis9BvGk3zbYt4oOtBw=/130x0/v1.bTsxMjc2MDUxMztwOzE3OTY3OzEyMDA7MTA4MDsxMzUw\"},\"actors\":[\"Robert Redford\",\"Casey Affleck\",\"Danny Glover\"]},{\"id\":771490638,\"title\":\"The Apparition (L\\'apparition)\",\"url\":\"/m/the_apparition_2018\",\"tomatoIcon\":\"fresh\",\"tomatoScore\":70,\"popcornIcon\":\"upright\",\"popcornScore\":60,\"theaterReleaseDate\":\"Sep 7\",\"dvdReleaseDate\":\"Jan 22\",\"mpaaRating\":\"NR\",\"synopsis\":\"<em>The Apparition</em> intrigues on a purely narrative level while also managing to tackle thorny questions of faith with suitably sober intelligence.\",\"synopsisType\":\"consensus\",\"runtime\":\"2 hr. 24 min.\",\"mainTrailer\":{\"sourceId\":\"http://link.theplatform.com/s/NGweTC/media/pNDQjRrVtT7a\",\"id\":\"11308439\"},\"posters\":{\"thumborId\":\"v1.bTsxMjgxOTgxMjtqOzE3OTY4OzEyMDA7Mjc2NDs0MDk2\",\"primary\":\"https://resizing.flixster.com/XF94n9rjUOxd6QFOetmUEGzh3Jk=/130x0/v1.bTsxMjgxOTgxMjtqOzE3OTY4OzEyMDA7Mjc2NDs0MDk2\"},\"actors\":[\"Vincent Lindon\",\"Galat\\xc3\\xa9a Bellugi\",\"Patrick d\\'Assum\\xc3\\xa7ao\"]},{\"id\":771492897,\"title\":\"Johnny English Strikes Again\",\"url\":\"/m/johnny_english_strikes_again_2018\",\"tomatoIcon\":\"rotten\",\"tomatoScore\":36,\"popcornIcon\":\"spilled\",\"popcornScore\":58,\"theaterReleaseDate\":\"Oct 26\",\"dvdReleaseDate\":\"Jan 22\",\"mpaaRating\":\"PG\",\"synopsis\":\"<em>Johnny English Strikes Again</em> might get a few giggles out of viewers pining for buffoonish pratfalls, but for the most part, this sequel simply strikes out.\",\"synopsisType\":\"consensus\",\"runtime\":\"1 hr. 28 min.\",\"mainTrailer\":{\"sourceId\":\"http://link.theplatform.com/s/NGweTC/media/DqkWsdnhlV6B\",\"id\":\"11308687\"},\"posters\":{\"thumborId\":\"v1.bTsxMjc3OTkxNDtqOzE3OTY3OzEyMDA7MjcxOzQwMg\",\"primary\":\"https://resizing.flixster.com/J7xtcmwwV5TMP4ZCVg7PYAAR5rI=/130x0/v1.bTsxMjc3OTkxNDtqOzE3OTY3OzEyMDA7MjcxOzQwMg\"},\"actors\":[\"Rowan Atkinson\",\"Olga Kurylenko\",\"Ben Miller\"]},{\"id\":771493237,\"title\":\"Here and Now (Blue Night)\",\"url\":\"/m/blue_night\",\"tomatoIcon\":\"rotten\",\"tomatoScore\":23,\"popcornIcon\":\"spilled\",\"popcornScore\":8,\"theaterReleaseDate\":\"Nov 9\",\"dvdReleaseDate\":\"Jan 22\",\"mpaaRating\":\"R\",\"synopsis\":\"Vivienne (Sarah Jessica Parker), is an established singer/songwriter with a successful music career. On the eve of a major performance, Vivienne receives some life-altering news that causes her to reevaluate her priorities. As she crisscrosses the busy streets of New York City, she tries to balance her upcoming music tour, family, and friends. With the support of her overbearing mother, Jeanne (Jacqueline Bisset), her long-time manager, Ben (Common), and her ex-husband, Nick (Simon Baker), Vivienne strives to make peace with the decisions and sacrifices she\\'s made along the way.\",\"synopsisType\":\"synopsis\",\"runtime\":\"1 hr. 36 min.\",\"mainTrailer\":{\"sourceId\":\"http://link.theplatform.com/s/NGweTC/media/q_IhMLCjcUED\",\"id\":\"11309376\"},\"posters\":{\"thumborId\":\"v1.bTsxMjg3NTMwNTtqOzE3OTY5OzEyMDA7NDA1Mjs2MDAx\",\"primary\":\"https://resizing.flixster.com/5zul5Vf7qTrmbEY4b1m6dk7AQtc=/130x0/v1.bTsxMjg3NTMwNTtqOzE3OTY5OzEyMDA7NDA1Mjs2MDAx\"},\"actors\":[\"Sarah Jessica Parker\",\"Simon Baker\",\"Common\"]},{\"id\":771493345,\"title\":\"Jonathan\",\"url\":\"/m/jonathan_2018\",\"tomatoIcon\":\"fresh\",\"tomatoScore\":65,\"popcornIcon\":\"spilled\",\"popcornScore\":58,\"theaterReleaseDate\":\"Nov 16\",\"dvdReleaseDate\":\"Jan 15\",\"mpaaRating\":\"NR\",\"synopsis\":\"In this sci-fi-tinged drama, Ansel Elgort plays two brothers living very separate lives -- inside the same body. Previously content to live life in shifts with one another, their delicate balance is ruined when they become emotionally involved with the same woman (Suki Waterhouse).\",\"synopsisType\":\"synopsis\",\"runtime\":\"1 hr. 41 min.\",\"mainTrailer\":{\"sourceId\":\"http://link.theplatform.com/s/NGweTC/media/sqpJbWZ8Jfu6\",\"id\":\"11309347\"},\"posters\":{\"thumborId\":\"v1.bTsxMjg4MTEwMztqOzE3OTY5OzEyMDA7MTM4MjsyMDQ4\",\"primary\":\"https://resizing.flixster.com/q5bupviKOFQJO7SiGbwRADxlUyk=/130x0/v1.bTsxMjg4MTEwMztqOzE3OTY5OzEyMDA7MTM4MjsyMDQ4\"},\"actors\":[\"Ansel Elgort\",\"Suki Waterhouse\",\"Patricia Clarkson\"]},{\"id\":771493349,\"title\":\"Egg\",\"url\":\"/m/egg_2019\",\"tomatoIcon\":\"fresh\",\"tomatoScore\":100,\"popcornIcon\":\"upright\",\"popcornScore\":60,\"theaterReleaseDate\":\"Jan 18\",\"dvdReleaseDate\":\"Jan 18\",\"mpaaRating\":\"NR\",\"synopsis\":\"An unflinching comedy about why women choose motherhood, why they revere it, fear it, and why some women choose to forgo it. Over the course of one explosive evening, two couples and a surrogate must face their own ridiculous and sometimes heartbreaking shortcomings. With sharp cutting dialogue and complicated characters, EGG is about the personal, social, professional, and ideological implications of bringing new life into the world. Artist Tina (Alysia Reiner, \\\\\"Orange Is the New Black\\\\\") and her passive-aggressive feminist husband (Gbenga Akinnagbe, \\\\\"The Deuce\\\\\") invite her eight-months pregnant art school rival (Christina Hendricks,\\\\\"Mad Men\\\\\") and power hungry, new-money husband (David Alan Basche, The Exes) to their Brooklyn loft, surprising them with Tina\\'s new work-in-progress: a radical alternative to motherhood. But when their sensuous, non-traditional surrogate arrives (Anna Camp, Pitch Perfect) the truth comes out, and the patriarchy fights to hang on by its teeth.\",\"synopsisType\":\"synopsis\",\"runtime\":\"1 hr. 23 min.\",\"mainTrailer\":{\"sourceId\":\"http://link.theplatform.com/s/NGweTC/media/j7d7D3MJMfoy\",\"id\":\"11310192\"},\"posters\":{\"thumborId\":\"v1.bTsxMjk0MTY2MztqOzE3OTY5OzEyMDA7MTQwMDsyMTAw\",\"primary\":\"https://resizing.flixster.com/ll7MQLZn9Jd7vQzrtmOIW6VGc1A=/130x0/v1.bTsxMjk0MTY2MztqOzE3OTY5OzEyMDA7MTQwMDsyMTAw\"},\"actors\":[\"Christina Hendricks\",\"Alysia Reiner\",\"David Alan Basche\"]},{\"id\":771493441,\"title\":\"All These Small Moments\",\"url\":\"/m/all_these_small_moments\",\"tomatoIcon\":\"fresh\",\"tomatoScore\":79,\"popcornIcon\":\"NA\",\"popcornScore\":-1,\"theaterReleaseDate\":\"Jan 17\",\"dvdReleaseDate\":\"Jan 18\",\"mpaaRating\":\"NR\",\"synopsis\":\"A teenage boy is caught between his parents\\' unhappy marriage and the two female friends who entrance him, and he must find his way to adulthood with only himself as a guide.\",\"synopsisType\":\"synopsis\",\"runtime\":\"1 hr. 25 min.\",\"mainTrailer\":{\"sourceId\":\"http://link.theplatform.com/s/NGweTC/media/sl2ZnE7wOhKq\",\"id\":\"11310136\"},\"posters\":{\"thumborId\":\"v1.bTsxMjk2MDAwMDtqOzE3OTcwOzEyMDA7MTUxOTsyMjUw\",\"primary\":\"https://resizing.flixster.com/53KSZdl_jZMax5xWer4zBrx5Z28=/130x0/v1.bTsxMjk2MDAwMDtqOzE3OTcwOzEyMDA7MTUxOTsyMjUw\"},\"actors\":[\"Molly Ringwald\",\"Brian d\\'Arcy James\",\"Brendan Meyer\"]},{\"id\":771493454,\"title\":\"Tea With the Dames (Nothing Like a Dame)\",\"url\":\"/m/tea_with_the_dames\",\"tomatoIcon\":\"certified_fresh\",\"tomatoScore\":99,\"popcornIcon\":\"upright\",\"popcornScore\":82,\"theaterReleaseDate\":\"Sep 21\",\"dvdReleaseDate\":\"Jan 15\",\"mpaaRating\":\"NR\",\"synopsis\":\"<em>Tea with the Dames</em> proves there\\'s plenty of entertainment value to be found in rounding up a quartet of screen legends for a chat -- and is likely to leave audiences wishing these stars would keep brewing up pots for an ongoing series.\",\"synopsisType\":\"consensus\",\"runtime\":\"1 hr. 34 min.\",\"mainTrailer\":{\"sourceId\":\"http://link.theplatform.com/s/NGweTC/media/mCtdqShz75Px\",\"id\":\"11308683\"},\"posters\":{\"thumborId\":\"v1.bTsxMjgzNjYzODtqOzE3OTY4OzEyMDA7MTA4MDsxNjAw\",\"primary\":\"https://resizing.flixster.com/1Z_MdtL0bSe7jGKyX_0_lr2g1p4=/130x0/v1.bTsxMjgzNjYzODtqOzE3OTY4OzEyMDA7MTA4MDsxNjAw\"},\"actors\":[\"Michael Anthony Williams\",\"Michael Aspel\"]},{\"id\":771493485,\"title\":\"Suspiria\",\"url\":\"/m/suspiria_2018\",\"tomatoIcon\":\"fresh\",\"tomatoScore\":64,\"popcornIcon\":\"upright\",\"popcornScore\":74,\"theaterReleaseDate\":\"Oct 26\",\"dvdReleaseDate\":\"Jan 15\",\"mpaaRating\":\"R\",\"synopsis\":\"<em>Suspiria</em> attacks heady themes with garish vigor, offering a viewing experience that\\'s daringly confrontational - and definitely not for everyone.\",\"synopsisType\":\"consensus\",\"runtime\":\"2 hr. 32 min.\",\"mainTrailer\":{\"sourceId\":\"http://link.theplatform.com/s/NGweTC/media/aP9XYpH9Zu_n\",\"id\":\"11308586\"},\"posters\":{\"thumborId\":\"v1.bTsxMjgzNzk1MjtqOzE3OTY4OzEyMDA7MzYwMDs1NTUw\",\"primary\":\"https://resizing.flixster.com/FDm-KEROO9phEjOcM1vuQ5BMFl4=/130x0/v1.bTsxMjgzNzk1MjtqOzE3OTY4OzEyMDA7MzYwMDs1NTUw\"},\"actors\":[\"Dakota Johnson \",\"Tilda Swinton\",\"Mia Goth\"]},{\"id\":771493574,\"title\":\"The Dark\",\"url\":\"/m/the_dark_2018\",\"tomatoIcon\":\"fresh\",\"tomatoScore\":90,\"popcornIcon\":\"spilled\",\"popcornScore\":56,\"theaterReleaseDate\":\"Oct 26\",\"dvdReleaseDate\":\"Jan 15\",\"mpaaRating\":\"NR\",\"synopsis\":\"On the outskirts of a small town lies Devil\\'s Den, a mysterious tract of woods where many have entered but no one has ever left. The local rumor is that the spirit of a young girl who was horrifically murdered there haunts and hunts in this dense forest, brutally slaying anyone who dares to step into her terrain. When a man with a dark past crosses her path, a series of events are set in motion that may lead to a peculiar kind of redemption for two tragically tortured souls. Part gothic fairytale and part chilling horror, director Justin P. Lange\\'s debut feature balances rich imagery with a brutal and bloody story of unlikely kindred spirits who must defend themselves against the villainous powers of the \\'normal\\' world.\",\"synopsisType\":\"synopsis\",\"runtime\":\"1 hr. 34 min.\",\"mainTrailer\":{\"sourceId\":\"http://link.theplatform.com/s/NGweTC/media/_uj5VbEpFp1B\",\"id\":\"11309060\"},\"posters\":{\"thumborId\":\"v1.bTsxMjg1NTc4MDtqOzE3OTY4OzEyMDA7ODAwOzExODU\",\"primary\":\"https://resizing.flixster.com/h3Ecnq1udj4Lvleyhi5cVgP5OYw=/130x0/v1.bTsxMjg1NTc4MDtqOzE3OTY4OzEyMDA7ODAwOzExODU\"},\"actors\":[\"Nadia Alexander\",\"Toby Nichols\",\"Karl Markovics\"]},{\"id\":771496072,\"title\":\"Alone (Solo)\",\"url\":\"/m/alone_2018\",\"tomatoIcon\":\"fresh\",\"tomatoScore\":71,\"popcornIcon\":\"NA\",\"popcornScore\":-1,\"dvdReleaseDate\":\"Jan 11\",\"mpaaRating\":\"NR\",\"synopsis\":\"In a remote area of the Canary Islands, a surfer falls off a cliff. Fighting to survive, he reflects on his life and past romance. Based on true events.\",\"synopsisType\":\"synopsis\",\"runtime\":\"1 hr. 31 min.\",\"posters\":{\"primary\":\"https://staticv2-4.rottentomatoes.com/static/images/redesign/poster_default_redesign.gif\"},\"actors\":[\"Alain Hern\\xc3\\xa1ndez\",\"Aura Garrido\",\"Ben Temple\"]},{\"id\":771496302,\"title\":\"Buffalo Boys\",\"url\":\"/m/buffalo_boys_2019\",\"tomatoIcon\":\"fresh\",\"tomatoScore\":78,\"popcornIcon\":\"NA\",\"popcornScore\":-1,\"theaterReleaseDate\":\"Jan 11\",\"dvdReleaseDate\":\"Jan 11\",\"mpaaRating\":\"NR\",\"synopsis\":\"It\\'s hampered somewhat by its disappointingly familiar story, but <em>Buffalo Boys</em> makes up for its shortcomings with plenty of exciting action sequences.\",\"synopsisType\":\"consensus\",\"runtime\":\"1 hr. 43 min.\",\"mainTrailer\":{\"sourceId\":\"http://link.theplatform.com/s/NGweTC/media/MyKPOg1NE2Ax\",\"id\":\"11309885\"},\"posters\":{\"thumborId\":\"v1.bTsxMjk0MzA3NztqOzE3OTY5OzEyMDA7MjAyNTszMDAw\",\"primary\":\"https://resizing.flixster.com/WM8fXL1dURlUb7pxxbpN4HhnsSw=/130x0/v1.bTsxMjk0MzA3NztqOzE3OTY5OzEyMDA7MjAyNTszMDAw\"},\"actors\":[\"Yoshi Sudarso\",\"Ario Bayu\",\"Pevita Pearce\"]},{\"id\":771497952,\"title\":\"The Standoff at Sparrow Creek\",\"url\":\"/m/the_standoff_at_sparrow_creek\",\"tomatoIcon\":\"fresh\",\"tomatoScore\":79,\"popcornIcon\":\"upright\",\"popcornScore\":80,\"theaterReleaseDate\":\"Jan 18\",\"dvdReleaseDate\":\"Jan 18\",\"mpaaRating\":\"NR\",\"synopsis\":\"Taut and unpredictable, <em>The Standoff at Sparrow Creek</em> should satisfy suspense fans in the mood for a well-told story topped with a generous helping of violence.\",\"synopsisType\":\"consensus\",\"runtime\":\"1 hr. 28 min.\",\"mainTrailer\":{\"sourceId\":\"http://link.theplatform.com/s/NGweTC/media/kQltmk4o1gUs\",\"id\":\"11310077\"},\"posters\":{\"thumborId\":\"v1.bTsxMjkyODEyNztwOzE3OTY5OzEyMDA7MzIwOzQ3NA\",\"primary\":\"https://resizing.flixster.com/CtDpovVbhqW1dr9rV1kjuGO8ifA=/130x0/v1.bTsxMjkyODEyNztwOzE3OTY5OzEyMDA7MzIwOzQ3NA\"},\"actors\":[\"James Badge Dale\",\"Patrick Fischler\",\"Brian Geraghty\"]},{\"id\":771498217,\"title\":\"Soni\",\"url\":\"/m/soni\",\"tomatoIcon\":\"fresh\",\"tomatoScore\":89,\"popcornIcon\":\"NA\",\"popcornScore\":-1,\"dvdReleaseDate\":\"Jan 18\",\"mpaaRating\":\"NR\",\"synopsis\":\"Soni, a young policewoman in Delhi, and her superintendent, Kalpana, have collectively taken on a growing crisis of violent crimes against women. However, their alliance suffers a major setback when Soni is transferred out for alleged misconduct on duty. Soni\\'s professional life further takes a hit when her estranged husband comes back into her life.\",\"synopsisType\":\"synopsis\",\"runtime\":\"1 hr. 37 min.\",\"posters\":{\"primary\":\"https://staticv2-4.rottentomatoes.com/static/images/redesign/poster_default_redesign.gif\"},\"actors\":[\"Geetika Vidya Ohlyan\",\"Saloni Batra (II) \",\"Mohinder Gujral\"]},{\"id\":771498925,\"title\":\"American Renegades\",\"url\":\"/m/american_renegades\",\"tomatoIcon\":\"rotten\",\"tomatoScore\":6,\"popcornIcon\":\"spilled\",\"popcornScore\":46,\"theaterReleaseDate\":\"Dec 21\",\"dvdReleaseDate\":\"Jan 22\",\"mpaaRating\":\"PG13\",\"synopsis\":\"AMERICAN RENEGADES is about a team of Navy Seals on assignment in war-torn Europe who discover a treasure of gold at the bottom of a lake --rumored to be worth hundreds of millions of dollars. In an effort to help the locals, they go rogue and engineer a heist to retrieve the gold and return it to its rightful owners. But in a deadly turn of events, they are detected by the enemy and left with only 10 hours to carry out their mission.\",\"synopsisType\":\"synopsis\",\"runtime\":\"1 hr. 46 min.\",\"mainTrailer\":{\"sourceId\":\"http://link.theplatform.com/s/NGweTC/media/ca_Lt_z8di7i\",\"id\":\"11309866\"},\"posters\":{\"thumborId\":\"v1.bTsxMjkyMDU5MDtqOzE3OTY5OzEyMDA7MTMzNDsyMDAw\",\"primary\":\"https://resizing.flixster.com/msZHy4xaivJM1z0yclPaStYZBp4=/130x0/v1.bTsxMjkyMDU5MDtqOzE3OTY5OzEyMDA7MTMzNDsyMDAw\"},\"actors\":[\"J.K. Simmons\",\"Sullivan Stapleton\",\"Charlie Bewley\"]},{\"id\":771498926,\"title\":\"Speed Kills\",\"url\":\"/m/speed_kills\",\"tomatoIcon\":\"rotten\",\"tomatoScore\":0,\"popcornIcon\":\"spilled\",\"popcornScore\":50,\"theaterReleaseDate\":\"Nov 16\",\"dvdReleaseDate\":\"Jan 15\",\"mpaaRating\":\"R\",\"synopsis\":\"John Travolta stars as a speedboat racing champion and multimillionaire whose secret life as a drug trafficker lands him in a deadly crossfire between the DEA and the Mob.\",\"synopsisType\":\"synopsis\",\"runtime\":\"1 hr. 42 min.\",\"mainTrailer\":{\"sourceId\":\"http://link.theplatform.com/s/NGweTC/media/gcp59wmJhiz5\",\"id\":\"11309522\"},\"posters\":{\"thumborId\":\"v1.bTsxMjg4ODI5MDtqOzE3OTY5OzEyMDA7NTQwMDs4MDAw\",\"primary\":\"https://resizing.flixster.com/m77OOJazKy3Fsk5SiXv0m81S0Bw=/130x0/v1.bTsxMjg4ODI5MDtqOzE3OTY5OzEyMDA7NTQwMDs4MDAw\"},\"actors\":[\"John Travolta\",\"Katheryn Winnick\",\"Jennifer Esposito\"]},{\"id\":771499156,\"title\":\"Once Upon a Deadpool\",\"url\":\"/m/once_upon_a_deadpool\",\"tomatoIcon\":\"rotten\",\"tomatoScore\":52,\"popcornIcon\":\"spilled\",\"popcornScore\":53,\"theaterReleaseDate\":\"Dec 12\",\"dvdReleaseDate\":\"Jan 15\",\"mpaaRating\":\"PG13\",\"synopsis\":\"<em>Once Upon a Deadpool</em> retains enough of the franchise\\'s anarchic spirit to entertain, but doesn\\'t add enough to <em>Deadpool 2</em> to justify its own existence.\",\"synopsisType\":\"consensus\",\"runtime\":\"1 hr. 56 min.\",\"mainTrailer\":{\"sourceId\":\"http://link.theplatform.com/s/NGweTC/media/L_XdaXMQZ09G\",\"id\":\"11309864\"},\"posters\":{\"thumborId\":\"v1.bTsxMjkzMjQ0MTtqOzE3OTY5OzEyMDA7MzkzOTs1ODM2\",\"primary\":\"https://resizing.flixster.com/PJLeFNJ_Gbqrtnem4VPq3aOv8_0=/130x0/v1.bTsxMjkzMjQ0MTtqOzE3OTY5OzEyMDA7MzkzOTs1ODM2\"},\"actors\":[\"Ryan Reynolds\",\"Fred Savage\",\"Josh Brolin\"]},{\"id\":771501074,\"title\":\"An Acceptable Loss\",\"url\":\"/m/an_acceptable_loss\",\"tomatoIcon\":\"rotten\",\"tomatoScore\":11,\"popcornIcon\":\"upright\",\"popcornScore\":91,\"theaterReleaseDate\":\"Jan 18\",\"dvdReleaseDate\":\"Jan 18\",\"mpaaRating\":\"R\",\"synopsis\":\"<em>An Acceptable Loss</em> attempts a political thriller approach to a serious issue, but ends up sacrificing thrills -- as well as a satisfying story -- in the bargain.\",\"synopsisType\":\"consensus\",\"runtime\":\"1 hr. 42 min.\",\"mainTrailer\":{\"sourceId\":\"http://link.theplatform.com/s/NGweTC/media/M8IOkv4oAYHj\",\"id\":\"11310106\"},\"posters\":{\"thumborId\":\"v1.bTsxMjk0MDM5MztqOzE3OTY5OzEyMDA7MTk0NDsyODYy\",\"primary\":\"https://resizing.flixster.com/-UzgnY08sjfZvw8gcVPOH17r_Yk=/130x0/v1.bTsxMjk0MDM5MztqOzE3OTY5OzEyMDA7MTk0NDsyODYy\"},\"actors\":[\"Tika Sumpter\",\"Jamie Lee Curtis\",\"Ben Tavassoli\"]},{\"id\":771502140,\"title\":\"I Hate Kids\",\"url\":\"/m/i_hate_kids_2019\",\"tomatoIcon\":\"rotten\",\"tomatoScore\":13,\"popcornIcon\":\"upright\",\"popcornScore\":96,\"theaterReleaseDate\":\"Jan 18\",\"dvdReleaseDate\":\"Jan 18\",\"mpaaRating\":\"PG13\",\"synopsis\":\"A man who has everything finds out he has the one thing he never wanted. Nick Pearson, a former lothario and author of a best-selling memoir titled \\\\\"I Hate Kids,\\\\\" is about to marry the woman of his dreams (Rachel Boston) who shares his disinterest in becoming a parent. Everything changes when awkward 13-year-old Mason (Julian Feder) interrupts their rehearsal dinner claiming to be Nick\\'s son. With the aid of flamboyant radio show psychic The Amazing Fabular (Tituss Burgess) and with just days until the wedding, the three strangers embark on a wild road trip to find out which of a dozen eccentric women from Nick\\'s past could possibly be Mason\\'s mother.\",\"synopsisType\":\"synopsis\",\"runtime\":\"1 hr. 29 min.\",\"mainTrailer\":{\"sourceId\":\"http://link.theplatform.com/s/NGweTC/media/X3f1tQYLRLql\",\"id\":\"11310222\"},\"posters\":{\"thumborId\":\"v1.bTsxMjk0MDM5MjtqOzE3OTY5OzEyMDA7NDA1MDs2MDAw\",\"primary\":\"https://resizing.flixster.com/CQndW6x3X-FCSJhDfxgT1-2_MYs=/130x0/v1.bTsxMjk0MDM5MjtqOzE3OTY5OzEyMDA7NDA1MDs2MDAw\"},\"actors\":[\"Tom Everett Scott\",\"Tituss Burgess\",\"Julian Feder\"]},{\"id\":771502943,\"title\":\"Close\",\"url\":\"/m/close_2019\",\"tomatoIcon\":\"rotten\",\"tomatoScore\":40,\"popcornIcon\":\"NA\",\"popcornScore\":-1,\"dvdReleaseDate\":\"Jan 18\",\"mpaaRating\":\"NR\",\"synopsis\":\"<em>Close</em> puts a welcome female-fronted spin on the prototypical action thriller; unfortunately, the rest of the movie\\'s ingredients are tediously predictable.\",\"synopsisType\":\"consensus\",\"mainTrailer\":{\"sourceId\":\"http://link.theplatform.com/s/NGweTC/media/mwh2fN8vPIIF\",\"id\":\"11310258\"},\"posters\":{\"thumborId\":\"v1.bTsxMjk1NTgxNjtqOzE3OTY5OzEyMDA7Njc1OzEwMDA\",\"primary\":\"https://resizing.flixster.com/mwdLqj9gZ3U3ScJk8NHiC0UskWI=/130x0/v1.bTsxMjk1NTgxNjtqOzE3OTY5OzEyMDA7Njc1OzEwMDA\"},\"actors\":[\"Noomi Rapace\",\"Sophie N\\xc3\\xa9lisse\",\"Charley Palmer Rothwell\"]},{\"id\":771503125,\"title\":\"Io\",\"url\":\"/m/io\",\"tomatoIcon\":\"rotten\",\"tomatoScore\":33,\"popcornIcon\":\"NA\",\"popcornScore\":-1,\"dvdReleaseDate\":\"Jan 18\",\"mpaaRating\":\"NR\",\"synopsis\":\"Sam (Margaret Qualley), one of the last survivors on a post-cataclysmic Earth, is a young scientist dedicated to finding a way for humans to adapt and survive, rather than abandon their world. But with the final shuttle scheduled to leave the planet for a distant colony, her determination to stay is rocked by the arrival of another survivor, Micah (Anthony Mackie). She must decide whether to journey with him to join the rest of humanity and begin life anew, or stay to fight for Earth\\'s survival.\",\"synopsisType\":\"synopsis\",\"mainTrailer\":{\"sourceId\":\"http://link.theplatform.com/s/NGweTC/media/c9aGuQ5gehfW\",\"id\":\"11310306\"},\"posters\":{\"thumborId\":\"v1.bTsxMjk2MDAwNTtqOzE3OTcwOzEyMDA7MTUwMDsyMjIy\",\"primary\":\"https://resizing.flixster.com/JDgVosSZiyLczAjk3rTWpCZfanQ=/130x0/v1.bTsxMjk2MDAwNTtqOzE3OTcwOzEyMDA7MTUwMDsyMjIy\"},\"actors\":[\"Anthony Mackie\",\"Margaret Qualley\",\"Danny Huston\"]}],\"debugUrl\":\"http://rt-client-facade-prod.aws.prod.flixster.com/movie?expand=true&include=%5B%22movieSupplementaryInfo%22%2C%22audienceSummary%22%2C%22affiliates%22%2C%22criticSummary%22%2C%22moviePersonnel%22%2C%22moviePersonnel.actors%22%2C%22moviePersonnel.actors.person%22%5D&filter=%7B%22search%22%3A%7B%22mpaa-rating-min%22%3A%22G%22%2C%22release-year-max%22%3A2019%2C%22filter-release-date%22%3A%22false%22%2C%22offset%22%3A0%2C%22services%22%3A%5B%22amazon%22%2C%22hbo_go%22%2C%22itunes%22%2C%22netflix_iw%22%2C%22vudu%22%2C%22amazon_prime%22%2C%22fandango_now%22%5D%2C%22sort%22%3A%22DVD_RELEASE_DATE_DESC%22%2C%22distribution%22%3A%22ANY%22%2C%22tomatometer-min%22%3A0%2C%22mpaa-rating-max%22%3A%22UN%22%2C%22release-day-of-month-max%22%3A25%2C%22limit%22%3A32%2C%22release-month-max%22%3A1%2C%22tomatometer-max%22%3A100%2C%22use-dvd-date%22%3Atrue%2C%22status%22%3A%22LIVE%22%7D%7D\"}'"
      ]
     },
     "execution_count": 4,
     "metadata": {},
     "output_type": "execute_result"
    }
   ],
   "source": [
    "r.data"
   ]
  },
  {
   "cell_type": "code",
   "execution_count": 2,
   "metadata": {},
   "outputs": [
    {
     "ename": "NameError",
     "evalue": "name 'json' is not defined",
     "output_type": "error",
     "traceback": [
      "\u001b[1;31m---------------------------------------------------------------------------\u001b[0m",
      "\u001b[1;31mNameError\u001b[0m                                 Traceback (most recent call last)",
      "\u001b[1;32m<ipython-input-2-b997de0efe9a>\u001b[0m in \u001b[0;36m<module>\u001b[1;34m\u001b[0m\n\u001b[1;32m----> 1\u001b[1;33m \u001b[0mdic\u001b[0m\u001b[1;33m=\u001b[0m\u001b[0mjson\u001b[0m\u001b[1;33m.\u001b[0m\u001b[0mloads\u001b[0m\u001b[1;33m(\u001b[0m\u001b[0mr\u001b[0m\u001b[1;33m.\u001b[0m\u001b[0mdata\u001b[0m\u001b[1;33m)\u001b[0m\u001b[1;33m\u001b[0m\u001b[1;33m\u001b[0m\u001b[0m\n\u001b[0m\u001b[0;32m      2\u001b[0m \u001b[0ma\u001b[0m\u001b[1;33m=\u001b[0m \u001b[0mdic\u001b[0m\u001b[1;33m[\u001b[0m\u001b[1;34m'results'\u001b[0m\u001b[1;33m]\u001b[0m\u001b[1;33m\u001b[0m\u001b[1;33m\u001b[0m\u001b[0m\n\u001b[0;32m      3\u001b[0m \u001b[0ma\u001b[0m\u001b[1;33m\u001b[0m\u001b[1;33m\u001b[0m\u001b[0m\n\u001b[0;32m      4\u001b[0m \u001b[0mtype\u001b[0m\u001b[1;33m(\u001b[0m\u001b[0ma\u001b[0m\u001b[1;33m)\u001b[0m\u001b[1;33m\u001b[0m\u001b[1;33m\u001b[0m\u001b[0m\n",
      "\u001b[1;31mNameError\u001b[0m: name 'json' is not defined"
     ]
    }
   ],
   "source": [
    "dic=json.loads(r.data)\n",
    "a= dic['results']\n",
    "a\n",
    "type(a)"
   ]
  },
  {
   "cell_type": "code",
   "execution_count": 6,
   "metadata": {},
   "outputs": [
    {
     "data": {
      "text/plain": [
       "[37,\n",
       " 85,\n",
       " 62,\n",
       " 47,\n",
       " 88,\n",
       " 40,\n",
       " 90,\n",
       " 80,\n",
       " 97,\n",
       " 54,\n",
       " 86,\n",
       " 92,\n",
       " 70,\n",
       " 36,\n",
       " 23,\n",
       " 65,\n",
       " 100,\n",
       " 79,\n",
       " 99,\n",
       " 64,\n",
       " 90,\n",
       " 71,\n",
       " 78,\n",
       " 79,\n",
       " 89,\n",
       " 6,\n",
       " 0,\n",
       " 52,\n",
       " 11,\n",
       " 13,\n",
       " 40,\n",
       " 33]"
      ]
     },
     "execution_count": 6,
     "metadata": {},
     "output_type": "execute_result"
    }
   ],
   "source": [
    "name=[]\n",
    "tomatocore=[]\n",
    "i=0\n",
    "while i <= len(a)-1:\n",
    "    temp=a[i]['title']\n",
    "    name.append(temp)\n",
    "    temp1=a[i]['tomatoScore']\n",
    "    tomatocore.append(temp1)\n",
    "    i +=1\n",
    "name \n",
    "tomatocore"
   ]
  },
  {
   "cell_type": "code",
   "execution_count": 7,
   "metadata": {},
   "outputs": [],
   "source": [
    "import pandas as pd \n",
    "test_df=pd.DataFrame({\"name\":name,\"tomatoscore\":tomatocore})"
   ]
  },
  {
   "cell_type": "code",
   "execution_count": 8,
   "metadata": {},
   "outputs": [
    {
     "data": {
      "text/html": [
       "<div>\n",
       "<style scoped>\n",
       "    .dataframe tbody tr th:only-of-type {\n",
       "        vertical-align: middle;\n",
       "    }\n",
       "\n",
       "    .dataframe tbody tr th {\n",
       "        vertical-align: top;\n",
       "    }\n",
       "\n",
       "    .dataframe thead th {\n",
       "        text-align: right;\n",
       "    }\n",
       "</style>\n",
       "<table border=\"1\" class=\"dataframe\">\n",
       "  <thead>\n",
       "    <tr style=\"text-align: right;\">\n",
       "      <th></th>\n",
       "      <th>name</th>\n",
       "      <th>tomatoscore</th>\n",
       "    </tr>\n",
       "  </thead>\n",
       "  <tbody>\n",
       "    <tr>\n",
       "      <th>0</th>\n",
       "      <td>Hunter Killer</td>\n",
       "      <td>37</td>\n",
       "    </tr>\n",
       "    <tr>\n",
       "      <th>1</th>\n",
       "      <td>The Sisters Brothers</td>\n",
       "      <td>85</td>\n",
       "    </tr>\n",
       "    <tr>\n",
       "      <th>2</th>\n",
       "      <td>Bohemian Rhapsody</td>\n",
       "      <td>62</td>\n",
       "    </tr>\n",
       "    <tr>\n",
       "      <th>3</th>\n",
       "      <td>Goosebumps 2: Haunted Halloween</td>\n",
       "      <td>47</td>\n",
       "    </tr>\n",
       "    <tr>\n",
       "      <th>4</th>\n",
       "      <td>First Man</td>\n",
       "      <td>88</td>\n",
       "    </tr>\n",
       "    <tr>\n",
       "      <th>5</th>\n",
       "      <td>The Girl in the Spider's Web</td>\n",
       "      <td>40</td>\n",
       "    </tr>\n",
       "    <tr>\n",
       "      <th>6</th>\n",
       "      <td>Widows</td>\n",
       "      <td>90</td>\n",
       "    </tr>\n",
       "    <tr>\n",
       "      <th>7</th>\n",
       "      <td>Boy Erased</td>\n",
       "      <td>80</td>\n",
       "    </tr>\n",
       "    <tr>\n",
       "      <th>8</th>\n",
       "      <td>The Hate U Give</td>\n",
       "      <td>97</td>\n",
       "    </tr>\n",
       "    <tr>\n",
       "      <th>9</th>\n",
       "      <td>The Bookshop</td>\n",
       "      <td>54</td>\n",
       "    </tr>\n",
       "    <tr>\n",
       "      <th>10</th>\n",
       "      <td>Madeline's Madeline</td>\n",
       "      <td>86</td>\n",
       "    </tr>\n",
       "    <tr>\n",
       "      <th>11</th>\n",
       "      <td>The Old Man &amp; the Gun</td>\n",
       "      <td>92</td>\n",
       "    </tr>\n",
       "    <tr>\n",
       "      <th>12</th>\n",
       "      <td>The Apparition (L'apparition)</td>\n",
       "      <td>70</td>\n",
       "    </tr>\n",
       "    <tr>\n",
       "      <th>13</th>\n",
       "      <td>Johnny English Strikes Again</td>\n",
       "      <td>36</td>\n",
       "    </tr>\n",
       "    <tr>\n",
       "      <th>14</th>\n",
       "      <td>Here and Now (Blue Night)</td>\n",
       "      <td>23</td>\n",
       "    </tr>\n",
       "    <tr>\n",
       "      <th>15</th>\n",
       "      <td>Jonathan</td>\n",
       "      <td>65</td>\n",
       "    </tr>\n",
       "    <tr>\n",
       "      <th>16</th>\n",
       "      <td>Egg</td>\n",
       "      <td>100</td>\n",
       "    </tr>\n",
       "    <tr>\n",
       "      <th>17</th>\n",
       "      <td>All These Small Moments</td>\n",
       "      <td>79</td>\n",
       "    </tr>\n",
       "    <tr>\n",
       "      <th>18</th>\n",
       "      <td>Tea With the Dames (Nothing Like a Dame)</td>\n",
       "      <td>99</td>\n",
       "    </tr>\n",
       "    <tr>\n",
       "      <th>19</th>\n",
       "      <td>Suspiria</td>\n",
       "      <td>64</td>\n",
       "    </tr>\n",
       "    <tr>\n",
       "      <th>20</th>\n",
       "      <td>The Dark</td>\n",
       "      <td>90</td>\n",
       "    </tr>\n",
       "    <tr>\n",
       "      <th>21</th>\n",
       "      <td>Alone (Solo)</td>\n",
       "      <td>71</td>\n",
       "    </tr>\n",
       "    <tr>\n",
       "      <th>22</th>\n",
       "      <td>Buffalo Boys</td>\n",
       "      <td>78</td>\n",
       "    </tr>\n",
       "    <tr>\n",
       "      <th>23</th>\n",
       "      <td>The Standoff at Sparrow Creek</td>\n",
       "      <td>79</td>\n",
       "    </tr>\n",
       "    <tr>\n",
       "      <th>24</th>\n",
       "      <td>Soni</td>\n",
       "      <td>89</td>\n",
       "    </tr>\n",
       "    <tr>\n",
       "      <th>25</th>\n",
       "      <td>American Renegades</td>\n",
       "      <td>6</td>\n",
       "    </tr>\n",
       "    <tr>\n",
       "      <th>26</th>\n",
       "      <td>Speed Kills</td>\n",
       "      <td>0</td>\n",
       "    </tr>\n",
       "    <tr>\n",
       "      <th>27</th>\n",
       "      <td>Once Upon a Deadpool</td>\n",
       "      <td>52</td>\n",
       "    </tr>\n",
       "    <tr>\n",
       "      <th>28</th>\n",
       "      <td>An Acceptable Loss</td>\n",
       "      <td>11</td>\n",
       "    </tr>\n",
       "    <tr>\n",
       "      <th>29</th>\n",
       "      <td>I Hate Kids</td>\n",
       "      <td>13</td>\n",
       "    </tr>\n",
       "    <tr>\n",
       "      <th>30</th>\n",
       "      <td>Close</td>\n",
       "      <td>40</td>\n",
       "    </tr>\n",
       "    <tr>\n",
       "      <th>31</th>\n",
       "      <td>Io</td>\n",
       "      <td>33</td>\n",
       "    </tr>\n",
       "  </tbody>\n",
       "</table>\n",
       "</div>"
      ],
      "text/plain": [
       "                                        name  tomatoscore\n",
       "0                              Hunter Killer           37\n",
       "1                       The Sisters Brothers           85\n",
       "2                          Bohemian Rhapsody           62\n",
       "3            Goosebumps 2: Haunted Halloween           47\n",
       "4                                  First Man           88\n",
       "5               The Girl in the Spider's Web           40\n",
       "6                                     Widows           90\n",
       "7                                 Boy Erased           80\n",
       "8                            The Hate U Give           97\n",
       "9                               The Bookshop           54\n",
       "10                       Madeline's Madeline           86\n",
       "11                     The Old Man & the Gun           92\n",
       "12             The Apparition (L'apparition)           70\n",
       "13              Johnny English Strikes Again           36\n",
       "14                 Here and Now (Blue Night)           23\n",
       "15                                  Jonathan           65\n",
       "16                                       Egg          100\n",
       "17                   All These Small Moments           79\n",
       "18  Tea With the Dames (Nothing Like a Dame)           99\n",
       "19                                  Suspiria           64\n",
       "20                                  The Dark           90\n",
       "21                              Alone (Solo)           71\n",
       "22                              Buffalo Boys           78\n",
       "23             The Standoff at Sparrow Creek           79\n",
       "24                                      Soni           89\n",
       "25                        American Renegades            6\n",
       "26                               Speed Kills            0\n",
       "27                      Once Upon a Deadpool           52\n",
       "28                        An Acceptable Loss           11\n",
       "29                               I Hate Kids           13\n",
       "30                                     Close           40\n",
       "31                                        Io           33"
      ]
     },
     "execution_count": 8,
     "metadata": {},
     "output_type": "execute_result"
    }
   ],
   "source": [
    "test_df"
   ]
  },
  {
   "cell_type": "code",
   "execution_count": 1,
   "metadata": {},
   "outputs": [
    {
     "ename": "NameError",
     "evalue": "name 'a' is not defined",
     "output_type": "error",
     "traceback": [
      "\u001b[1;31m---------------------------------------------------------------------------\u001b[0m",
      "\u001b[1;31mNameError\u001b[0m                                 Traceback (most recent call last)",
      "\u001b[1;32m<ipython-input-1-b152ec05ccbc>\u001b[0m in \u001b[0;36m<module>\u001b[1;34m\u001b[0m\n\u001b[1;32m----> 1\u001b[1;33m \u001b[0mtype\u001b[0m\u001b[1;33m(\u001b[0m\u001b[0ma\u001b[0m\u001b[1;33m)\u001b[0m\u001b[1;33m\u001b[0m\u001b[1;33m\u001b[0m\u001b[0m\n\u001b[0m",
      "\u001b[1;31mNameError\u001b[0m: name 'a' is not defined"
     ]
    }
   ],
   "source": [
    "type(a)"
   ]
  },
  {
   "cell_type": "code",
   "execution_count": null,
   "metadata": {},
   "outputs": [],
   "source": []
  }
 ],
 "metadata": {
  "kernelspec": {
   "display_name": "Python 3",
   "language": "python",
   "name": "python3"
  },
  "language_info": {
   "codemirror_mode": {
    "name": "ipython",
    "version": 3
   },
   "file_extension": ".py",
   "mimetype": "text/x-python",
   "name": "python",
   "nbconvert_exporter": "python",
   "pygments_lexer": "ipython3",
   "version": "3.7.1"
  }
 },
 "nbformat": 4,
 "nbformat_minor": 2
}
